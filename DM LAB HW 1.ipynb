{
 "cells": [
  {
   "cell_type": "code",
   "execution_count": 224,
   "metadata": {},
   "outputs": [],
   "source": [
    "import pandas as pd\n"
   ]
  },
  {
   "cell_type": "code",
   "execution_count": 225,
   "metadata": {},
   "outputs": [],
   "source": [
    "from scipy.spatial import distance\n"
   ]
  },
  {
   "cell_type": "code",
   "execution_count": 226,
   "metadata": {},
   "outputs": [],
   "source": [
    "from scipy.spatial.distance import cityblock\n"
   ]
  },
  {
   "cell_type": "code",
   "execution_count": 227,
   "metadata": {},
   "outputs": [],
   "source": [
    "dataframe = pd.read_csv(\"data.csv\")\n"
   ]
  },
  {
   "cell_type": "code",
   "execution_count": 228,
   "metadata": {},
   "outputs": [
    {
     "name": "stdout",
     "output_type": "stream",
     "text": [
      "    Book   p1   p2 p3   p4 p5   p6 p7   p8\n",
      "0  book1  3.5    2  5    3  -    -  5    3\n",
      "1  book2    2  3.5  1    4  4  4.5  2    -\n",
      "2  book3    -    4  1  4.5  1    4  -    -\n",
      "3  book4  4.5    -  3    -  4    5  3    5\n",
      "4  book5    5    2  5    3  -    5  5    4\n",
      "5  book6  1.5  3.5  1  4.5  -  4.5  4  2.5\n",
      "6  book7  2.5    -  -    4  4    4  5    3\n",
      "7  book8    2    3  -    2  1    4  -    -\n"
     ]
    }
   ],
   "source": [
    "print(dataframe)"
   ]
  },
  {
   "cell_type": "code",
   "execution_count": 229,
   "metadata": {},
   "outputs": [],
   "source": [
    "df = dataframe.replace('-',float(\"Nan\"))"
   ]
  },
  {
   "cell_type": "code",
   "execution_count": 230,
   "metadata": {},
   "outputs": [
    {
     "name": "stdout",
     "output_type": "stream",
     "text": [
      "    Book   p1   p2   p3   p4   p5   p6   p7   p8\n",
      "0  book1  3.5    2    5    3  NaN  NaN    5    3\n",
      "1  book2    2  3.5    1    4    4  4.5    2  NaN\n",
      "2  book3  NaN    4    1  4.5    1    4  NaN  NaN\n",
      "3  book4  4.5  NaN    3  NaN    4    5    3    5\n",
      "4  book5    5    2    5    3  NaN    5    5    4\n",
      "5  book6  1.5  3.5    1  4.5  NaN  4.5    4  2.5\n",
      "6  book7  2.5  NaN  NaN    4    4    4    5    3\n",
      "7  book8    2    3  NaN    2    1    4  NaN  NaN\n"
     ]
    }
   ],
   "source": [
    "print(df)"
   ]
  },
  {
   "cell_type": "code",
   "execution_count": 231,
   "metadata": {},
   "outputs": [],
   "source": [
    "totalcolumn = len(df.columns) "
   ]
  },
  {
   "cell_type": "code",
   "execution_count": 245,
   "metadata": {},
   "outputs": [
    {
     "name": "stdout",
     "output_type": "stream",
     "text": [
      "\n",
      "    p1   p2\n",
      "0  3.5    2\n",
      "1    2  3.5\n",
      "4    5    2\n",
      "5  1.5  3.5\n",
      "7    2    3\n",
      "Manhattan:  9.0\n",
      "[9.0]\n",
      "\n",
      "Eucledian:  4.301162633521313\n",
      "[4.301162633521313]\n",
      "\n",
      "Minkowski:  9.0\n",
      "[9.0]\n",
      "\n",
      "    p1 p3\n",
      "0  3.5  5\n",
      "1    2  1\n",
      "3  4.5  3\n",
      "4    5  5\n",
      "5  1.5  1\n",
      "Manhattan:  4.5\n",
      "[9.0, 4.5]\n",
      "\n",
      "Eucledian:  2.3979157616563596\n",
      "[4.301162633521313, 2.3979157616563596]\n",
      "\n",
      "Minkowski:  4.5\n",
      "[9.0, 4.5]\n",
      "\n",
      "    p1   p4\n",
      "0  3.5    3\n",
      "1    2    4\n",
      "4    5    3\n",
      "5  1.5  4.5\n",
      "6  2.5    4\n",
      "7    2    2\n",
      "Manhattan:  9.0\n",
      "[9.0, 4.5, 9.0]\n",
      "\n",
      "Eucledian:  4.415880433163924\n",
      "[4.301162633521313, 2.3979157616563596, 4.415880433163924]\n",
      "\n",
      "Minkowski:  9.0\n",
      "[9.0, 4.5, 9.0]\n",
      "\n",
      "    p1 p5\n",
      "1    2  4\n",
      "3  4.5  4\n",
      "6  2.5  4\n",
      "7    2  1\n",
      "Manhattan:  5.0\n",
      "[9.0, 4.5, 9.0, 5.0]\n",
      "\n",
      "Eucledian:  2.7386127875258306\n",
      "[4.301162633521313, 2.3979157616563596, 4.415880433163924, 2.7386127875258306]\n",
      "\n",
      "Minkowski:  5.0\n",
      "[9.0, 4.5, 9.0, 5.0]\n",
      "\n",
      "    p1   p6\n",
      "1    2  4.5\n",
      "3  4.5    5\n",
      "4    5    5\n",
      "5  1.5  4.5\n",
      "6  2.5    4\n",
      "7    2    4\n",
      "Manhattan:  9.5\n",
      "[9.0, 4.5, 9.0, 5.0, 9.5]\n",
      "\n",
      "Eucledian:  4.663689526544408\n",
      "[4.301162633521313, 2.3979157616563596, 4.415880433163924, 2.7386127875258306, 4.663689526544408]\n",
      "\n",
      "Minkowski:  9.5\n",
      "[9.0, 4.5, 9.0, 5.0, 9.5]\n",
      "\n",
      "    p1 p7\n",
      "0  3.5  5\n",
      "1    2  2\n",
      "3  4.5  3\n",
      "4    5  5\n",
      "5  1.5  4\n",
      "6  2.5  5\n",
      "Manhattan:  8.0\n",
      "[9.0, 4.5, 9.0, 5.0, 9.5, 8.0]\n",
      "\n",
      "Eucledian:  4.123105625617661\n",
      "[4.301162633521313, 2.3979157616563596, 4.415880433163924, 2.7386127875258306, 4.663689526544408, 4.123105625617661]\n",
      "\n",
      "Minkowski:  8.0\n",
      "[9.0, 4.5, 9.0, 5.0, 9.5, 8.0]\n",
      "\n",
      "    p1   p8\n",
      "0  3.5    3\n",
      "3  4.5    5\n",
      "4    5    4\n",
      "5  1.5  2.5\n",
      "6  2.5    3\n",
      "Manhattan:  3.5\n",
      "[9.0, 4.5, 9.0, 5.0, 9.5, 8.0, 3.5]\n",
      "\n",
      "Eucledian:  1.6583123951777\n",
      "[4.301162633521313, 2.3979157616563596, 4.415880433163924, 2.7386127875258306, 4.663689526544408, 4.123105625617661, 1.6583123951777]\n",
      "\n",
      "Minkowski:  3.5\n",
      "[9.0, 4.5, 9.0, 5.0, 9.5, 8.0, 3.5]\n"
     ]
    },
    {
     "name": "stderr",
     "output_type": "stream",
     "text": [
      "C:\\Users\\brist\\anaconda3\\lib\\site-packages\\pandas\\core\\frame.py:4163: SettingWithCopyWarning: \n",
      "A value is trying to be set on a copy of a slice from a DataFrame\n",
      "\n",
      "See the caveats in the documentation: https://pandas.pydata.org/pandas-docs/stable/user_guide/indexing.html#returning-a-view-versus-a-copy\n",
      "  return super().drop(\n",
      "C:\\Users\\brist\\anaconda3\\lib\\site-packages\\pandas\\core\\frame.py:4163: SettingWithCopyWarning: \n",
      "A value is trying to be set on a copy of a slice from a DataFrame\n",
      "\n",
      "See the caveats in the documentation: https://pandas.pydata.org/pandas-docs/stable/user_guide/indexing.html#returning-a-view-versus-a-copy\n",
      "  return super().drop(\n",
      "C:\\Users\\brist\\anaconda3\\lib\\site-packages\\pandas\\core\\frame.py:4163: SettingWithCopyWarning: \n",
      "A value is trying to be set on a copy of a slice from a DataFrame\n",
      "\n",
      "See the caveats in the documentation: https://pandas.pydata.org/pandas-docs/stable/user_guide/indexing.html#returning-a-view-versus-a-copy\n",
      "  return super().drop(\n",
      "C:\\Users\\brist\\anaconda3\\lib\\site-packages\\pandas\\core\\frame.py:4163: SettingWithCopyWarning: \n",
      "A value is trying to be set on a copy of a slice from a DataFrame\n",
      "\n",
      "See the caveats in the documentation: https://pandas.pydata.org/pandas-docs/stable/user_guide/indexing.html#returning-a-view-versus-a-copy\n",
      "  return super().drop(\n",
      "C:\\Users\\brist\\anaconda3\\lib\\site-packages\\pandas\\core\\frame.py:4163: SettingWithCopyWarning: \n",
      "A value is trying to be set on a copy of a slice from a DataFrame\n",
      "\n",
      "See the caveats in the documentation: https://pandas.pydata.org/pandas-docs/stable/user_guide/indexing.html#returning-a-view-versus-a-copy\n",
      "  return super().drop(\n",
      "C:\\Users\\brist\\anaconda3\\lib\\site-packages\\pandas\\core\\frame.py:4163: SettingWithCopyWarning: \n",
      "A value is trying to be set on a copy of a slice from a DataFrame\n",
      "\n",
      "See the caveats in the documentation: https://pandas.pydata.org/pandas-docs/stable/user_guide/indexing.html#returning-a-view-versus-a-copy\n",
      "  return super().drop(\n",
      "C:\\Users\\brist\\anaconda3\\lib\\site-packages\\pandas\\core\\frame.py:4163: SettingWithCopyWarning: \n",
      "A value is trying to be set on a copy of a slice from a DataFrame\n",
      "\n",
      "See the caveats in the documentation: https://pandas.pydata.org/pandas-docs/stable/user_guide/indexing.html#returning-a-view-versus-a-copy\n",
      "  return super().drop(\n"
     ]
    }
   ],
   "source": [
    "MANHATTAN_DIST = []\n",
    "EUCLIDEAN_DIST = []\n",
    "Mincouski_Dist = []\n",
    "for count in range(2,totalcolumn):\n",
    " queue = df[df.columns[[1, count]]]\n",
    " print()\n",
    " index_with_nan = queue.index[queue.isnull().any(axis=1)]\n",
    " queue.drop(index_with_nan, 0, inplace=True)\n",
    " print(queue)\n",
    "\n",
    " man = distance.cityblock(queue[\"p1\"].astype(float), queue[queue.columns[1]].astype(float))\n",
    " print(\"Manhattan: \", man)\n",
    " MANHATTAN_DIST.insert(count,man)\n",
    " print(MANHATTAN_DIST)\n",
    " print()\n",
    "\n",
    " euclidean = distance.euclidean(queue[\"p1\"].astype(float), queue[queue.columns[1]].astype(float))\n",
    " print(\"Eucledian: \", euclidean)\n",
    " EUCLIDEAN_DIST.insert(count,euclidean)\n",
    " print(EUCLIDEAN_DIST)\n",
    " print()\n",
    "\n",
    " minkowski = distance.minkowski(queue[\"p1\"].astype(float), queue[queue.columns[1]].astype(float),p=1)\n",
    " print(\"Minkowski: \", minkowski)\n",
    " Mincouski_Dist.insert(count,minkowski)\n",
    " print(Mincouski_Dist)\n"
   ]
  },
  {
   "cell_type": "code",
   "execution_count": 247,
   "metadata": {},
   "outputs": [],
   "source": [
    "Distance = [\"p1-p2\", \"p1-p3\", \"p1-p4\", \"p1-p5\", \"p1-p6\", \"p1-p7\", \"p1-p8\"]"
   ]
  },
  {
   "cell_type": "code",
   "execution_count": 248,
   "metadata": {},
   "outputs": [],
   "source": [
    "dict = { \"Distance\": Distance, \"Manhattan\": MANHATTAN_DIST, \"Euclidean\": EUCLIDEAN_DIST , \"Minkowski\": Mincouski_Dist  };"
   ]
  },
  {
   "cell_type": "code",
   "execution_count": 249,
   "metadata": {},
   "outputs": [],
   "source": [
    "Final_Output = pd.DataFrame(dict)"
   ]
  },
  {
   "cell_type": "code",
   "execution_count": 250,
   "metadata": {},
   "outputs": [
    {
     "data": {
      "text/html": [
       "<div>\n",
       "<style scoped>\n",
       "    .dataframe tbody tr th:only-of-type {\n",
       "        vertical-align: middle;\n",
       "    }\n",
       "\n",
       "    .dataframe tbody tr th {\n",
       "        vertical-align: top;\n",
       "    }\n",
       "\n",
       "    .dataframe thead th {\n",
       "        text-align: right;\n",
       "    }\n",
       "</style>\n",
       "<table border=\"1\" class=\"dataframe\">\n",
       "  <thead>\n",
       "    <tr style=\"text-align: right;\">\n",
       "      <th></th>\n",
       "      <th>Distance</th>\n",
       "      <th>Manhattan</th>\n",
       "      <th>Euclidean</th>\n",
       "      <th>Minkowski</th>\n",
       "    </tr>\n",
       "  </thead>\n",
       "  <tbody>\n",
       "    <tr>\n",
       "      <th>0</th>\n",
       "      <td>p1-p2</td>\n",
       "      <td>9.0</td>\n",
       "      <td>4.301163</td>\n",
       "      <td>9.0</td>\n",
       "    </tr>\n",
       "    <tr>\n",
       "      <th>1</th>\n",
       "      <td>p1-p3</td>\n",
       "      <td>4.5</td>\n",
       "      <td>2.397916</td>\n",
       "      <td>4.5</td>\n",
       "    </tr>\n",
       "    <tr>\n",
       "      <th>2</th>\n",
       "      <td>p1-p4</td>\n",
       "      <td>9.0</td>\n",
       "      <td>4.415880</td>\n",
       "      <td>9.0</td>\n",
       "    </tr>\n",
       "    <tr>\n",
       "      <th>3</th>\n",
       "      <td>p1-p5</td>\n",
       "      <td>5.0</td>\n",
       "      <td>2.738613</td>\n",
       "      <td>5.0</td>\n",
       "    </tr>\n",
       "    <tr>\n",
       "      <th>4</th>\n",
       "      <td>p1-p6</td>\n",
       "      <td>9.5</td>\n",
       "      <td>4.663690</td>\n",
       "      <td>9.5</td>\n",
       "    </tr>\n",
       "    <tr>\n",
       "      <th>5</th>\n",
       "      <td>p1-p7</td>\n",
       "      <td>8.0</td>\n",
       "      <td>4.123106</td>\n",
       "      <td>8.0</td>\n",
       "    </tr>\n",
       "    <tr>\n",
       "      <th>6</th>\n",
       "      <td>p1-p8</td>\n",
       "      <td>3.5</td>\n",
       "      <td>1.658312</td>\n",
       "      <td>3.5</td>\n",
       "    </tr>\n",
       "  </tbody>\n",
       "</table>\n",
       "</div>"
      ],
      "text/plain": [
       "  Distance  Manhattan  Euclidean  Minkowski\n",
       "0    p1-p2        9.0   4.301163        9.0\n",
       "1    p1-p3        4.5   2.397916        4.5\n",
       "2    p1-p4        9.0   4.415880        9.0\n",
       "3    p1-p5        5.0   2.738613        5.0\n",
       "4    p1-p6        9.5   4.663690        9.5\n",
       "5    p1-p7        8.0   4.123106        8.0\n",
       "6    p1-p8        3.5   1.658312        3.5"
      ]
     },
     "metadata": {},
     "output_type": "display_data"
    }
   ],
   "source": [
    "display(Final_Output)"
   ]
  },
  {
   "cell_type": "code",
   "execution_count": null,
   "metadata": {},
   "outputs": [],
   "source": []
  }
 ],
 "metadata": {
  "kernelspec": {
   "display_name": "Python 3",
   "language": "python",
   "name": "python3"
  },
  "language_info": {
   "codemirror_mode": {
    "name": "ipython",
    "version": 3
   },
   "file_extension": ".py",
   "mimetype": "text/x-python",
   "name": "python",
   "nbconvert_exporter": "python",
   "pygments_lexer": "ipython3",
   "version": "3.8.5"
  }
 },
 "nbformat": 4,
 "nbformat_minor": 4
}
